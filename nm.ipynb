{
 "cells": [
  {
   "cell_type": "code",
   "execution_count": 18,
   "id": "df6ba58e",
   "metadata": {},
   "outputs": [],
   "source": [
    "import pandas as pd"
   ]
  },
  {
   "cell_type": "code",
   "execution_count": 4,
   "id": "90515e74",
   "metadata": {},
   "outputs": [],
   "source": [
    "import numpy as np"
   ]
  },
  {
   "cell_type": "code",
   "execution_count": 6,
   "id": "8ab2d617",
   "metadata": {},
   "outputs": [],
   "source": [
    "import matplotlib.pyplot as plt\n",
    "import seaborn as sns"
   ]
  },
  {
   "cell_type": "code",
   "execution_count": 7,
   "id": "c5e22ecf",
   "metadata": {},
   "outputs": [
    {
     "name": "stdout",
     "output_type": "stream",
     "text": [
      "                                           headlines  \\\n",
      "0  Nirmala Sitharaman to equal Morarji Desai’s re...   \n",
      "1  ‘Will densify network, want to be at least no....   \n",
      "2  Air India group to induct an aircraft every si...   \n",
      "3  Red Sea woes: Exporters seek increased credit ...   \n",
      "4  Air India group to induct a plane every 6 days...   \n",
      "\n",
      "                                         description  \\\n",
      "0  With the presentation of the interim budget on...   \n",
      "1  'In terms of market share, we aim to double it...   \n",
      "2  Air India currently has 117 operational aircra...   \n",
      "3  Rising attacks forced shippers to consider the...   \n",
      "4  Apart from fleet expansion, 2024 will also see...   \n",
      "\n",
      "                                             content  \\\n",
      "0  Sitharaman, the first full-time woman finance ...   \n",
      "1  The merger of Tata group’s budget airlines Air...   \n",
      "2  The Air India group plans to induct one aircra...   \n",
      "3  Indian exporters have asked the central govern...   \n",
      "4  The Air India group plans to induct one aircra...   \n",
      "\n",
      "                                                 url  category  \n",
      "0  https://indianexpress.com/article/business/bud...  business  \n",
      "1  https://indianexpress.com/article/business/avi...  business  \n",
      "2  https://indianexpress.com/article/business/avi...  business  \n",
      "3  https://indianexpress.com/article/business/red...  business  \n",
      "4  https://indianexpress.com/article/business/avi...  business  \n"
     ]
    }
   ],
   "source": [
    "# Load all CSV files (assuming similar structure)\n",
    "df1 = pd.read_csv('business_data.csv')\n",
    "df2 = pd.read_csv('education_data.csv')\n",
    "df3 = pd.read_csv('entertainment_data.csv')\n",
    "df4 = pd.read_csv('sports_data.csv')\n",
    "df5 = pd.read_csv('technology_data.csv')\n",
    "\n",
    "# Combine all into one DataFrame\n",
    "df = pd.concat([df1, df2, df3, df4 , df5], ignore_index=True)\n",
    "\n",
    "# View structure\n",
    "print(df.head())\n"
   ]
  },
  {
   "cell_type": "code",
   "execution_count": 8,
   "id": "8c1f343d",
   "metadata": {},
   "outputs": [
    {
     "data": {
      "text/plain": [
       "Index(['headlines', 'description', 'content', 'url', 'category'], dtype='object')"
      ]
     },
     "execution_count": 8,
     "metadata": {},
     "output_type": "execute_result"
    }
   ],
   "source": [
    "df.columns"
   ]
  },
  {
   "cell_type": "code",
   "execution_count": 9,
   "id": "c9cae2f5",
   "metadata": {},
   "outputs": [],
   "source": [
    "import re\n",
    "import string\n",
    "import nltk\n",
    "import spacy"
   ]
  },
  {
   "cell_type": "code",
   "execution_count": 14,
   "id": "73ad268c",
   "metadata": {},
   "outputs": [],
   "source": [
    "from sklearn.feature_extraction.text import TfidfVectorizer\n",
    "from sklearn.model_selection import train_test_split, cross_val_score\n",
    "from sklearn.linear_model import LogisticRegression\n",
    "from sklearn.naive_bayes import MultinomialNB\n",
    "from sklearn.ensemble import RandomForestClassifier\n",
    "from xgboost import XGBClassifier\n",
    "from sklearn.metrics import classification_report, confusion_matrix, accuracy_score\n",
    "\n",
    "import joblib"
   ]
  },
  {
   "cell_type": "code",
   "execution_count": 20,
   "id": "4884a195",
   "metadata": {},
   "outputs": [],
   "source": [
    "df['text'] = (\n",
    "df['headlines'].astype(str) + \" \" +\n",
    "df['description'].astype(str) + \" \" +\n",
    "df['content'].astype(str)\n",
    ")"
   ]
  },
  {
   "cell_type": "code",
   "execution_count": 21,
   "id": "ce834e3c",
   "metadata": {},
   "outputs": [],
   "source": [
    "def preprocess_text(text):\n",
    "    text = text.lower()\n",
    "    text = re.sub(rf\"[{re.escape(string.punctuation)}]\", \"\", text)\n",
    "    return text\n",
    "\n",
    "def word_count(text):\n",
    "    return len(text.split())\n",
    "\n",
    "def char_count(text):\n",
    "    return len(text)\n",
    "\n",
    "def avg_word_len(text):\n",
    "    words = text.split()\n",
    "    return sum(len(word) for word in words) / len(words) if words else 0\n",
    "\n",
    "def stop_words_count(text):\n",
    "    return len([word for word in text.split() if word in stop_words])"
   ]
  },
  {
   "cell_type": "code",
   "execution_count": 23,
   "id": "245a045e",
   "metadata": {},
   "outputs": [],
   "source": [
    "df['clean_text'] = df['text'].apply(preprocess_text)\n",
    "df['word_count'] = df['clean_text'].apply(word_count)\n",
    "df['char_count'] = df['clean_text'].apply(char_count)\n",
    "df['avg_word_len'] = df['clean_text'].apply(avg_word_len)\n",
    "\n"
   ]
  },
  {
   "cell_type": "code",
   "execution_count": 25,
   "id": "b2d05226",
   "metadata": {},
   "outputs": [],
   "source": [
    "from nltk.corpus import stopwords\n",
    "stop_words = set(stopwords.words('english'))\n",
    "\n",
    "def count_stopwords(text):\n",
    "    if pd.isnull(text):\n",
    "        return 0\n",
    "    return sum(1 for word in text.split() if word in stop_words)\n"
   ]
  },
  {
   "cell_type": "code",
   "execution_count": 26,
   "id": "27bf3ed8",
   "metadata": {},
   "outputs": [],
   "source": [
    "df['stopword_count'] = df['clean_text'].apply(count_stopwords)\n"
   ]
  },
  {
   "cell_type": "code",
   "execution_count": 28,
   "id": "b4c9adca",
   "metadata": {},
   "outputs": [],
   "source": [
    "vectorizer = TfidfVectorizer(ngram_range=(1, 2), max_features=10000)\n",
    "X = vectorizer.fit_transform(df['text'])\n",
    "y = df['category']\n"
   ]
  },
  {
   "cell_type": "code",
   "execution_count": 29,
   "id": "cfdfa673",
   "metadata": {},
   "outputs": [],
   "source": [
    "X_train, X_test, y_train, y_test = train_test_split(X, y, test_size=0.2, stratify=y, random_state=42)\n"
   ]
  },
  {
   "cell_type": "code",
   "execution_count": 30,
   "id": "8a8abef6",
   "metadata": {},
   "outputs": [
    {
     "name": "stdout",
     "output_type": "stream",
     "text": [
      "Logistic Regression Report:\n",
      "                precision    recall  f1-score   support\n",
      "\n",
      "     business       0.97      0.97      0.97       400\n",
      "    education       1.00      0.98      0.99       400\n",
      "entertainment       1.00      0.99      0.99       400\n",
      "       sports       0.99      0.99      0.99       400\n",
      "   technology       0.95      0.97      0.96       400\n",
      "\n",
      "     accuracy                           0.98      2000\n",
      "    macro avg       0.98      0.98      0.98      2000\n",
      " weighted avg       0.98      0.98      0.98      2000\n",
      "\n"
     ]
    }
   ],
   "source": [
    "lr_model = LogisticRegression(max_iter=1000)\n",
    "lr_model.fit(X_train, y_train)\n",
    "y_pred_lr = lr_model.predict(X_test)\n",
    "print(\"Logistic Regression Report:\\n\", classification_report(y_test, y_pred_lr))\n"
   ]
  },
  {
   "cell_type": "code",
   "execution_count": 31,
   "id": "7172708d",
   "metadata": {},
   "outputs": [
    {
     "name": "stdout",
     "output_type": "stream",
     "text": [
      "Naive Bayes Report:\n",
      "                precision    recall  f1-score   support\n",
      "\n",
      "     business       0.97      0.95      0.96       400\n",
      "    education       1.00      0.98      0.99       400\n",
      "entertainment       0.99      0.99      0.99       400\n",
      "       sports       0.98      0.99      0.98       400\n",
      "   technology       0.95      0.96      0.96       400\n",
      "\n",
      "     accuracy                           0.97      2000\n",
      "    macro avg       0.98      0.97      0.98      2000\n",
      " weighted avg       0.98      0.97      0.98      2000\n",
      "\n"
     ]
    }
   ],
   "source": [
    "nb_model = MultinomialNB()\n",
    "nb_model.fit(X_train, y_train)\n",
    "y_pred_nb = nb_model.predict(X_test)\n",
    "print(\"Naive Bayes Report:\\n\", classification_report(y_test, y_pred_nb))\n"
   ]
  },
  {
   "cell_type": "code",
   "execution_count": 32,
   "id": "55f23df7",
   "metadata": {},
   "outputs": [
    {
     "name": "stdout",
     "output_type": "stream",
     "text": [
      "Random Forest Report:\n",
      "                precision    recall  f1-score   support\n",
      "\n",
      "     business       0.96      0.94      0.95       400\n",
      "    education       0.98      0.98      0.98       400\n",
      "entertainment       0.99      0.96      0.98       400\n",
      "       sports       0.98      0.98      0.98       400\n",
      "   technology       0.91      0.97      0.94       400\n",
      "\n",
      "     accuracy                           0.96      2000\n",
      "    macro avg       0.97      0.96      0.96      2000\n",
      " weighted avg       0.97      0.96      0.96      2000\n",
      "\n"
     ]
    }
   ],
   "source": [
    "rf_model = RandomForestClassifier(n_estimators=100)\n",
    "rf_model.fit(X_train, y_train)\n",
    "y_pred_rf = rf_model.predict(X_test)\n",
    "print(\"Random Forest Report:\\n\", classification_report(y_test, y_pred_rf))\n"
   ]
  },
  {
   "cell_type": "code",
   "execution_count": 4,
   "id": "9cb32132",
   "metadata": {},
   "outputs": [
    {
     "ename": "NameError",
     "evalue": "name 'XGBClassifier' is not defined",
     "output_type": "error",
     "traceback": [
      "\u001b[31m---------------------------------------------------------------------------\u001b[39m",
      "\u001b[31mNameError\u001b[39m                                 Traceback (most recent call last)",
      "\u001b[36mCell\u001b[39m\u001b[36m \u001b[39m\u001b[32mIn[4]\u001b[39m\u001b[32m, line 1\u001b[39m\n\u001b[32m----> \u001b[39m\u001b[32m1\u001b[39m xgb_model = \u001b[43mXGBClassifier\u001b[49m(use_label_encoder=\u001b[38;5;28;01mFalse\u001b[39;00m, eval_metric=\u001b[33m'\u001b[39m\u001b[33mmlogloss\u001b[39m\u001b[33m'\u001b[39m)\n\u001b[32m      2\u001b[39m xgb_model.fit(X_train, y_train)\n\u001b[32m      3\u001b[39m y_pred_xgb = xgb_model.predict(X_test)\n",
      "\u001b[31mNameError\u001b[39m: name 'XGBClassifier' is not defined"
     ]
    }
   ],
   "source": [
    "xgb_model = XGBClassifier(use_label_encoder=False, eval_metric='mlogloss')\n",
    "xgb_model.fit(X_train, y_train)\n",
    "y_pred_xgb = xgb_model.predict(X_test)\n",
    "print(\"XGBoost Report:\\n\", classification_report(y_test, y_pred_xgb))\n"
   ]
  },
  {
   "cell_type": "code",
   "execution_count": 34,
   "id": "d97c29fe",
   "metadata": {},
   "outputs": [],
   "source": [
    "from sklearn.preprocessing import LabelEncoder\n",
    "\n",
    "label_encoder = LabelEncoder()\n",
    "y_encoded = label_encoder.fit_transform(df['category'])\n"
   ]
  },
  {
   "cell_type": "code",
   "execution_count": 35,
   "id": "9749d7cd",
   "metadata": {},
   "outputs": [],
   "source": [
    "X_train, X_test, y_train, y_test = train_test_split(X, y_encoded, test_size=0.2, stratify=y_encoded, random_state=42)\n"
   ]
  },
  {
   "cell_type": "code",
   "execution_count": 36,
   "id": "15928675",
   "metadata": {},
   "outputs": [
    {
     "name": "stderr",
     "output_type": "stream",
     "text": [
      "c:\\Users\\lisik\\AppData\\Local\\Programs\\Python\\Python312\\Lib\\site-packages\\xgboost\\training.py:183: UserWarning: [12:20:09] WARNING: C:\\actions-runner\\_work\\xgboost\\xgboost\\src\\learner.cc:738: \n",
      "Parameters: { \"use_label_encoder\" } are not used.\n",
      "\n",
      "  bst.update(dtrain, iteration=i, fobj=obj)\n"
     ]
    }
   ],
   "source": [
    "xgb_model = XGBClassifier(use_label_encoder=False, eval_metric='mlogloss')\n",
    "xgb_model.fit(X_train, y_train)\n",
    "y_pred_xgb = xgb_model.predict(X_test)\n"
   ]
  },
  {
   "cell_type": "code",
   "execution_count": 37,
   "id": "7e923271",
   "metadata": {},
   "outputs": [
    {
     "name": "stdout",
     "output_type": "stream",
     "text": [
      "XGBoost Report:\n",
      "                precision    recall  f1-score   support\n",
      "\n",
      "     business       0.96      0.95      0.96       400\n",
      "    education       0.98      0.98      0.98       400\n",
      "entertainment       0.99      0.98      0.99       400\n",
      "       sports       0.98      0.98      0.98       400\n",
      "   technology       0.94      0.95      0.95       400\n",
      "\n",
      "     accuracy                           0.97      2000\n",
      "    macro avg       0.97      0.97      0.97      2000\n",
      " weighted avg       0.97      0.97      0.97      2000\n",
      "\n"
     ]
    }
   ],
   "source": [
    "from sklearn.metrics import classification_report\n",
    "\n",
    "print(\"XGBoost Report:\\n\", classification_report(label_encoder.inverse_transform(y_test),\n",
    "                                                 label_encoder.inverse_transform(y_pred_xgb)))\n"
   ]
  },
  {
   "cell_type": "code",
   "execution_count": 2,
   "id": "9924c420",
   "metadata": {},
   "outputs": [],
   "source": [
    "from sklearn.preprocessing import LabelEncoder\n",
    "\n",
    "# Create an instance of LabelEncoder\n",
    "label_encoder = LabelEncoder()\n"
   ]
  },
  {
   "cell_type": "code",
   "execution_count": 3,
   "id": "c955d91c",
   "metadata": {},
   "outputs": [
    {
     "data": {
      "text/plain": [
       "['label_encoder.joblib']"
      ]
     },
     "execution_count": 3,
     "metadata": {},
     "output_type": "execute_result"
    }
   ],
   "source": [
    "from sklearn.preprocessing import LabelEncoder\n",
    "import joblib\n",
    "\n",
    "# Example: assume you have a list or Series of labels\n",
    "labels = ['business', 'technology', 'sports', 'entertainment', 'education']\n",
    "\n",
    "# Create and fit the label encoder\n",
    "label_encoder = LabelEncoder()\n",
    "label_encoder.fit(labels)\n",
    "\n",
    "# Save it for later use\n",
    "joblib.dump(label_encoder, 'label_encoder.joblib')\n"
   ]
  },
  {
   "cell_type": "code",
   "execution_count": 41,
   "id": "54f84018",
   "metadata": {},
   "outputs": [
    {
     "data": {
      "image/png": "[encoded data removed]",
      "text/plain": [
       "<Figure size 640x480 with 2 Axes>"
      ]
     },
     "metadata": {},
     "output_type": "display_data"
    }
   ],
   "source": [
    "labels = label_encoder.classes_  # ['business', 'education', ...]\n",
    "cm = confusion_matrix(y_test,y_pred_xgb)\n",
    "sns.heatmap(cm, annot=True, fmt='d', cmap='Blues', xticklabels=labels, yticklabels=labels)\n",
    "plt.title(\"Logistic Regression Confusion Matrix\")\n",
    "plt.xlabel(\"Predicted\")\n",
    "plt.ylabel(\"Actual\")\n",
    "plt.show()\n",
    "\n"
   ]
  },
  {
   "cell_type": "code",
   "execution_count": 42,
   "id": "38f82d62",
   "metadata": {},
   "outputs": [
    {
     "data": {
      "text/plain": [
       "['tfidf_vectorizer.joblib']"
      ]
     },
     "execution_count": 42,
     "metadata": {},
     "output_type": "execute_result"
    }
   ],
   "source": [
    "joblib.dump(lr_model, 'logistic_model.joblib')\n",
    "joblib.dump(vectorizer, 'tfidf_vectorizer.joblib')\n"
   ]
  },
  {
   "cell_type": "code",
   "execution_count": 43,
   "id": "63076025",
   "metadata": {},
   "outputs": [
    {
     "name": "stdout",
     "output_type": "stream",
     "text": [
      "Predicted Category: ['technology']\n"
     ]
    }
   ],
   "source": [
    "# New text data (you might get this from a file, user input, etc.)\n",
    "new_data = [\"This is a new article about technology and innovation.\"]\n",
    "\n",
    "# Step 1: Transform the new data using the saved vectorizer\n",
    "new_data_transformed = vectorizer.transform(new_data)\n",
    "\n",
    "# Step 2: Use the saved logistic regression model to make predictions\n",
    "predictions = lr_model.predict(new_data_transformed)\n",
    "\n",
    "# Step 3: Output the predicted categories\n",
    "print(\"Predicted Category:\", predictions)"
   ]
  },
  {
   "cell_type": "code",
   "execution_count": 44,
   "id": "90fedc31",
   "metadata": {},
   "outputs": [
    {
     "name": "stdout",
     "output_type": "stream",
     "text": [
      "Accuracy: 0.3333333333333333\n",
      "Classification Report:\n",
      "               precision    recall  f1-score   support\n",
      "\n",
      "    business       0.00      0.00      0.00         1\n",
      "      sports       0.00      0.00      0.00         1\n",
      "  technology       0.33      1.00      0.50         1\n",
      "\n",
      "    accuracy                           0.33         3\n",
      "   macro avg       0.11      0.33      0.17         3\n",
      "weighted avg       0.11      0.33      0.17         3\n",
      "\n"
     ]
    },
    {
     "name": "stderr",
     "output_type": "stream",
     "text": [
      "c:\\Users\\lisik\\AppData\\Local\\Programs\\Python\\Python312\\Lib\\site-packages\\sklearn\\metrics\\_classification.py:1565: UndefinedMetricWarning: Precision is ill-defined and being set to 0.0 in labels with no predicted samples. Use `zero_division` parameter to control this behavior.\n",
      "  _warn_prf(average, modifier, f\"{metric.capitalize()} is\", len(result))\n",
      "c:\\Users\\lisik\\AppData\\Local\\Programs\\Python\\Python312\\Lib\\site-packages\\sklearn\\metrics\\_classification.py:1565: UndefinedMetricWarning: Precision is ill-defined and being set to 0.0 in labels with no predicted samples. Use `zero_division` parameter to control this behavior.\n",
      "  _warn_prf(average, modifier, f\"{metric.capitalize()} is\", len(result))\n",
      "c:\\Users\\lisik\\AppData\\Local\\Programs\\Python\\Python312\\Lib\\site-packages\\sklearn\\metrics\\_classification.py:1565: UndefinedMetricWarning: Precision is ill-defined and being set to 0.0 in labels with no predicted samples. Use `zero_division` parameter to control this behavior.\n",
      "  _warn_prf(average, modifier, f\"{metric.capitalize()} is\", len(result))\n"
     ]
    }
   ],
   "source": [
    "from sklearn.metrics import classification_report, accuracy_score\n",
    "\n",
    "# Assume you have new labeled data (X_test_new, y_test_new)\n",
    "new_data_test = [\"Article 1\", \"Article 2\", \"Article 3\"]\n",
    "y_test_new = [\"technology\", \"sports\", \"business\"]  # true categories\n",
    "\n",
    "# Transform new data into the same format used for training\n",
    "new_data_transformed = vectorizer.transform(new_data_test)\n",
    "\n",
    "# Get predictions from the loaded model\n",
    "predictions = lr_model.predict(new_data_transformed)\n",
    "\n",
    "# Evaluate the predictions\n",
    "print(\"Accuracy:\", accuracy_score(y_test_new, predictions))\n",
    "print(\"Classification Report:\\n\", classification_report(y_test_new, predictions))\n"
   ]
  },
  {
   "cell_type": "code",
   "execution_count": null,
   "id": "31e7eaf0",
   "metadata": {},
   "outputs": [],
   "source": []
  }
 ],
 "metadata": {
  "kernelspec": {
   "display_name": "Python 3",
   "language": "python",
   "name": "python3"
  },
  "language_info": {
   "codemirror_mode": {
    "name": "ipython",
    "version": 3
   },
   "file_extension": ".py",
   "mimetype": "text/x-python",
   "name": "python",
   "nbconvert_exporter": "python",
   "pygments_lexer": "ipython3",
   "version": "3.12.10"
  }
 },
 "nbformat": 4,
 "nbformat_minor": 5
}
